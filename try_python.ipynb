{
 "cells": [
  {
   "cell_type": "code",
   "execution_count": 7,
   "id": "authorized-lodging",
   "metadata": {},
   "outputs": [],
   "source": [
    "class counter:\n",
    "    i = 12345\n",
    "    def f(self):\n",
    "        print(self.i)\n",
    "        print(self.j)\n",
    "        return \"Hello World\"\n",
    "    \n",
    "    def __init__(self):\n",
    "        self.j = 99\n",
    "        self.hihi = 898"
   ]
  },
  {
   "cell_type": "code",
   "execution_count": 4,
   "id": "mobile-array",
   "metadata": {},
   "outputs": [
    {
     "name": "stdout",
     "output_type": "stream",
     "text": [
      "<class 'str'>\n",
      "Hello World\n"
     ]
    }
   ],
   "source": [
    "x = counter()\n",
    "k = x.f()\n",
    "print(type(k))\n",
    "print(k)"
   ]
  },
  {
   "cell_type": "code",
   "execution_count": 10,
   "id": "funny-majority",
   "metadata": {},
   "outputs": [
    {
     "name": "stdout",
     "output_type": "stream",
     "text": [
      "<class '__main__.counter'>\n",
      "Hello World\n"
     ]
    }
   ],
   "source": [
    "print(type(x))\n",
    "print(counter.f(x))"
   ]
  },
  {
   "cell_type": "code",
   "execution_count": 12,
   "id": "religious-sapphire",
   "metadata": {},
   "outputs": [
    {
     "name": "stdout",
     "output_type": "stream",
     "text": [
      "1\n",
      "2\n",
      "1\n"
     ]
    }
   ],
   "source": [
    "a = counter()\n",
    "a.i = 1\n",
    "\n",
    "b = counter()\n",
    "b.i = 2\n",
    "\n",
    "print(a.i)\n",
    "print(b.i)\n",
    "print(a.i)"
   ]
  },
  {
   "cell_type": "code",
   "execution_count": 28,
   "id": "happy-growth",
   "metadata": {},
   "outputs": [
    {
     "name": "stdout",
     "output_type": "stream",
     "text": [
      "99\n",
      "99\n",
      "3\n",
      "99\n",
      "12345\n",
      "12345\n"
     ]
    }
   ],
   "source": [
    "a = counter()\n",
    "# a.i = 1\n",
    "\n",
    "b = counter()\n",
    "# b.i = 2\n",
    "\n",
    "print(a.j)\n",
    "print(b.j)\n",
    "\n",
    "a.j = 3\n",
    "\n",
    "print(a.j)\n",
    "print(b.j)\n",
    "\n",
    "print(a.i)\n",
    "print(b.i)\n"
   ]
  },
  {
   "cell_type": "code",
   "execution_count": 8,
   "id": "mathematical-waters",
   "metadata": {},
   "outputs": [
    {
     "output_type": "stream",
     "name": "stdout",
     "text": [
      "{'__module__': '__main__', 'i': 12345, 'f': <function counter.f at 0x7f1405171820>, '__init__': <function counter.__init__ at 0x7f14051714c0>, '__dict__': <attribute '__dict__' of 'counter' objects>, '__weakref__': <attribute '__weakref__' of 'counter' objects>, '__doc__': None}\n.....\n{'j': 99, 'hihi': 898, 'i': 13131}\n"
     ]
    }
   ],
   "source": [
    "c = counter()\n",
    "c.i = 13131\n",
    "\n",
    "print(counter.__dict__)\n",
    "print(\".....\")\n",
    "print(c.__dict__)"
   ]
  },
  {
   "cell_type": "code",
   "execution_count": 52,
   "id": "varied-orientation",
   "metadata": {},
   "outputs": [
    {
     "ename": "SyntaxError",
     "evalue": "invalid syntax (<ipython-input-52-8fc1e11cc357>, line 5)",
     "output_type": "error",
     "traceback": [
      "\u001b[0;36m  File \u001b[0;32m\"<ipython-input-52-8fc1e11cc357>\"\u001b[0;36m, line \u001b[0;32m5\u001b[0m\n\u001b[0;31m    print(class.counter)\u001b[0m\n\u001b[0m          ^\u001b[0m\n\u001b[0;31mSyntaxError\u001b[0m\u001b[0;31m:\u001b[0m invalid syntax\n"
     ]
    }
   ],
   "source": [
    "a = counter()\n",
    "a.f()\n",
    "print(a.__class__)\n",
    "print(counter.__doc__)"
   ]
  },
  {
   "cell_type": "code",
   "execution_count": 55,
   "id": "fifth-robert",
   "metadata": {},
   "outputs": [
    {
     "name": "stdout",
     "output_type": "stream",
     "text": [
      "True\n"
     ]
    }
   ],
   "source": [
    "print(issubclass(bool, int))"
   ]
  },
  {
   "cell_type": "code",
   "execution_count": 68,
   "id": "artistic-anniversary",
   "metadata": {},
   "outputs": [],
   "source": [
    "class Mapping:\n",
    "    def __init__(self, iterable):\n",
    "        self.items_list = []\n",
    "        self.__update(iterable)\n",
    "\n",
    "    def update(self, iterable):\n",
    "        print('hi')\n",
    "\n",
    "    __update = update   # private copy of original update() method\n",
    "\n",
    "class MappingSubclass(Mapping):\n",
    "\n",
    "    def update(self, keys, values):\n",
    "        print('hello')\n",
    "\n",
    "    __update = update   # private copy of original update() method"
   ]
  },
  {
   "cell_type": "code",
   "execution_count": 70,
   "id": "brutal-prerequisite",
   "metadata": {},
   "outputs": [
    {
     "name": "stdout",
     "output_type": "stream",
     "text": [
      "hi\n",
      "hi\n",
      "hello\n",
      "hello\n"
     ]
    }
   ],
   "source": [
    "a = Mapping([])\n",
    "b = MappingSubclass([])\n",
    "b.update(0,[])\n",
    "\n",
    "\n",
    "\n",
    "eval('b.update(0,[])')\n"
   ]
  },
  {
   "cell_type": "code",
   "execution_count": 71,
   "id": "standard-irrigation",
   "metadata": {
    "tags": [
     "outputPrepend"
    ]
   },
   "outputs": [
    {
     "name": "stdout",
     "output_type": "stream",
     "text": [
      "1)\\n\\n    __update = update   # private copy of original update() method\\n\\nclass MappingSubclass(Mapping):\\n\\n    def update(self, keys, values):\\n        print(2)', \"class Mapping:\\n    def __init__(self, iterable):\\n        self.items_list = []\\n        self.__update(iterable)\\n\\n    def update(self, iterable):\\n        print('hi')\\n\\n    __update = update   # private copy of original update() method\\n\\nclass MappingSubclass(Mapping):\\n\\n    def update(self, keys, values):\\n        print('hello')\", \"class Mapping:\\n    def __init__(self, iterable):\\n        self.items_list = []\\n        self.__update(iterable)\\n\\n    def update(self, iterable):\\n        print('hi')\\n\\n    __update = update   # private copy of original update() method\\n\\nclass MappingSubclass(Mapping):\\n\\n    def update(self, keys, values):\\n        print('hello')\", 'a = Mapping([])\\nb = MappingSubclass([])', 'a = Mapping([])\\nb = MappingSubclass([])\\nb.update()', 'a = Mapping([])\\nb = MappingSubclass([])\\nb.update([])', 'a = Mapping([])\\nb = MappingSubclass([])\\nb.update(0,[])', 'a = Mapping([])\\nb = MappingSubclass([])\\nb.update(0,[])', \"class Mapping:\\n    def __init__(self, iterable):\\n        self.items_list = []\\n        self.__update(iterable)\\n\\n    def update(self, iterable):\\n        print('hi')\\n\\n    __update = update   # private copy of original update() method\\n\\nclass MappingSubclass(Mapping):\\n\\n    def update(self, keys, values):\\n        print('hello')\\n\\n    __update = update   # private copy of original update() method\", 'a = Mapping([])\\nb = MappingSubclass([])\\nb.update(0,[])', \"a = Mapping([])\\nb = MappingSubclass([])\\nb.update(0,[])\\n\\neval('b.update(0,[])')\", 'print(locals())'], '_oh': {43: 'Hello World'}, '_dh': ['/home/fongsu', '/home/fongsu/git_repos/R_Learning_gym'], 'In': ['', 'class counter:\\n    i = 12345\\n    def f(self):\\n        return 12345\\n    \\n    def __init__(self):\\n        pass', 'x = counter()\\nk = x.f()\\nprint(type(k))\\nprint(k)', 'class counter:\\n    i = 12345\\n    def f(self):\\n        return \"Hello World\"\\n    \\n    def __init__(self):\\n        pass', 'x = counter()\\nk = x.f()\\nprint(type(k))\\nprint(k)', 'print(type(couter))', 'print(type(counter))', 'print(type(counter.f))', 'print(type(x.f))', 'print(type(x))', 'print(type(x))\\nprint(counter.f(x))', 'a = counter()\\na.i = 1\\n\\nb = counter()\\nb.i = 2\\n\\nprint(a.i)\\nprint(b.i)', 'a = counter()\\na.i = 1\\n\\nb = counter()\\nb.i = 2\\n\\nprint(a.i)\\nprint(b.i)\\nprint(a.i)', 'a = counter()\\n# a.i = 1\\n\\nb = counter()\\n# b.i = 2\\ncounter.i = 12\\n\\nprint(a.i)\\nprint(b.i)', 'class counter:\\n    i = 12345\\n    def f(self):\\n        self.j = 99\\n        return \"Hello World\"\\n    \\n    def __init__(self):\\n        pass', 'class counter:\\n    i = 12345\\n    def f(self):\\n        self.j = 99\\n        return \"Hello World\"\\n    \\n    def __init__(self):\\n        pass', 'a = counter()\\n# a.i = 1\\n\\nb = counter()\\n# b.i = 2\\ncounter.i = 12\\ncounter.j = 22\\n\\nprint(a.j)\\n\\nprint(a.i)\\nprint(b.i)', 'a = counter()\\n# a.i = 1\\n\\nb = counter()\\n# b.i = 2\\ncounter.i = 12\\ncounter.j = 22\\n\\nprint(a.j)\\n\\nprint(a.i)\\nprint(b.i)', 'a = counter()\\n# a.i = 1\\n\\nb = counter()\\n# b.i = 2\\ncounter.i = 12\\ncounter.j = 22\\n\\nprint(a.j)\\n\\nprint(a.i)\\nprint(b.i)', 'class counter:\\n    i = 12345\\n    def f(self):\\n        self.j = 99\\n        self.hihi = 898\\n        return \"Hello World\"\\n    \\n    def __init__(self):\\n        pass', 'class counter:\\n    i = 12345\\n    def f(self):\\n        self.j = 99\\n        self.hihi = 898\\n        return \"Hello World\"\\n    \\n    def __init__(self):\\n        pass', 'class counter:\\n    i = 12345\\n    def f(self):\\n        self.j = 99\\n        self.hihi = 898\\n        return \"Hello World\"\\n    \\n    def __init__(self):\\n        pass', 'a = counter()\\n# a.i = 1\\n\\nb = counter()\\n# b.i = 2\\n\\nprint(a.j)\\n\\n\\nprint(a.j)\\n\\nprint(a.i)\\nprint(b.i)', 'a = counter()\\n# a.i = 1\\n\\nb = counter()\\n# b.i = 2\\n\\nprint(a.j)\\n\\n\\nprint(a.j)\\n\\nprint(a.i)\\nprint(b.i)', 'class counter:\\n    i = 12345\\n    def f(self):\\n        return \"Hello World\"\\n    \\n    def __init__(self):\\n        self.j = 99\\n        self.hihi = 898\\n        pass', 'class counter:\\n    i = 12345\\n    def f(self):\\n        return \"Hello World\"\\n    \\n    def __init__(self):\\n        self.j = 99\\n        self.hihi = 898', 'a = counter()\\n# a.i = 1\\n\\nb = counter()\\n# b.i = 2\\n\\nprint(a.j)\\nprint(b.j)\\n\\nprint(a.i)\\nprint(b.i)', 'a = counter()\\n# a.i = 1\\n\\nb = counter()\\n# b.i = 2\\n\\nprint(a.j)\\nprint(b.j)\\n\\nprint(a.i)\\nprint(b.i)', 'a = counter()\\n# a.i = 1\\n\\nb = counter()\\n# b.i = 2\\n\\nprint(a.j)\\nprint(b.j)\\n\\na.j = 3\\n\\nprint(a.j)\\nprint(b.j)\\n\\nprint(a.i)\\nprint(b.i)', 'c = counter()\\n\\nprint(counter.__dict__)\\nprint(c.__dict__)', 'c = counter()\\n\\nprint(counter.__dict__)\\nprint(\".....\")\\nprint(c.__dict__)', 'c = counter()\\nc.i = 13131\\n\\nprint(counter.__dict__)\\nprint(\".....\")\\nprint(c.__dict__)', 'class counter:\\n    i = 12345\\n    def f(self):\\n        print(i)\\n        return \"Hello World\"\\n    \\n    def __init__(self):\\n        self.j = 99\\n        self.hihi = 898', 'class counter:\\n    i = 12345\\n    def f(self):\\n        print(i)\\n        print(j)\\n        return \"Hello World\"\\n    \\n    def __init__(self):\\n        self.j = 99\\n        self.hihi = 898', 'class counter:\\n    i = 12345\\n    def f(self):\\n        print(i)\\n        print(j)\\n        return \"Hello World\"\\n    \\n    def __init__(self):\\n        self.j = 99\\n        self.hihi = 898', 'a = counter()\\na.f()', 'class counter:\\n    i = 12345\\n    def f(self):\\n        print(i)\\n        print(self.j)\\n        return \"Hello World\"\\n    \\n    def __init__(self):\\n        self.j = 99\\n        self.hihi = 898', 'a = counter()\\na.f()', 'a = counter()\\na.f()', 'a = counter()\\na.f()', 'class counter:\\n    i = 12345\\n    def f(self):\\n        print(i)\\n        print(self.j)\\n        return \"Hello World\"\\n    \\n    def __init__(self):\\n        self.j = 99\\n        self.hihi = 898', 'a = counter()\\na.f()', 'class counter:\\n    i = 12345\\n    def f(self):\\n        print(self.i)\\n        print(self.j)\\n        return \"Hello World\"\\n    \\n    def __init__(self):\\n        self.j = 99\\n        self.hihi = 898', 'a = counter()\\na.f()', 'a = counter()\\na.f()\\nprint(a.__class__)\\nprint(counter.__class__)', 'a = counter()\\na.f()\\nprint(a.__class__)\\nprint(counter.__doc__))', 'a = counter()\\na.f()\\nprint(a.__class__)\\nprint(counter.__doc__)', 'a = counter()\\na.f()\\nprint(a.__class__)\\nprint(counter.__doc__)\\nprint(class.__doc__)', 'a = counter()\\na.f()\\nprint(a.__class__)\\nprint(counter.__doc__)\\nprint(int.__class__)', 'a = counter()\\na.f()\\nprint(a.__class__)\\nprint(counter.__doc__)\\nprint(int.__class__)', 'a = counter()\\na.f()\\nprint(a.__class__)\\nprint(counter.__doc__)\\nprint(class)', 'a = counter()\\na.f()\\nprint(a.__class__)\\nprint(counter.__doc__)\\nprint(class)', 'a = counter()\\na.f()\\nprint(a.__class__)\\nprint(counter.__doc__)\\nprint(class.counter)', 'print(issubclass(int, float))', 'print(bool.__class__)', 'print(issubclass(bool, int))', 'class Mapping:\\n    def __init__(self, iterable):\\n        self.items_list = []\\n        self.__update(iterable)\\n\\n    def update(self, iterable):\\n        for item in iterable:\\n            self.items_list.append(item)\\n\\n    __update = update   # private copy of original update() method\\n\\nclass MappingSubclass(Mapping):\\n\\n    def update(self, keys, values):\\n        # provides new signature for update()\\n        # but does not break __init__()\\n        for item in zip(keys, values):\\n            self.items_list.append(item)', 'class Mapping:\\n    def __init__(self, iterable):\\n        self.items_list = []\\n        self.__update(iterable)\\n\\n    def update(self, iterable):\\n        print(1)\\n\\n    __update = update   # private copy of original update() method\\n\\nclass MappingSubclass(Mapping):\\n\\n    def update(self, keys, values):\\n        print(2)', 'a = Mapping()\\nb = MappingSubclass()', 'a = Mapping([])\\nb = MappingSubclass([])', 'class Mapping:\\n    def __init__(self, iterable):\\n        self.items_list = []\\n        self.__update(iterable)\\n\\n    def update(self, iterable):\\n        print(1)\\n\\n    __update = update   # private copy of original update() method\\n\\nclass MappingSubclass(Mapping):\\n\\n    def update(self, keys, values):\\n        print(2)', \"class Mapping:\\n    def __init__(self, iterable):\\n        self.items_list = []\\n        self.__update(iterable)\\n\\n    def update(self, iterable):\\n        print('hi')\\n\\n    __update = update   # private copy of original update() method\\n\\nclass MappingSubclass(Mapping):\\n\\n    def update(self, keys, values):\\n        print('hello')\", \"class Mapping:\\n    def __init__(self, iterable):\\n        self.items_list = []\\n        self.__update(iterable)\\n\\n    def update(self, iterable):\\n        print('hi')\\n\\n    __update = update   # private copy of original update() method\\n\\nclass MappingSubclass(Mapping):\\n\\n    def update(self, keys, values):\\n        print('hello')\", 'a = Mapping([])\\nb = MappingSubclass([])', 'a = Mapping([])\\nb = MappingSubclass([])\\nb.update()', 'a = Mapping([])\\nb = MappingSubclass([])\\nb.update([])', 'a = Mapping([])\\nb = MappingSubclass([])\\nb.update(0,[])', 'a = Mapping([])\\nb = MappingSubclass([])\\nb.update(0,[])', \"class Mapping:\\n    def __init__(self, iterable):\\n        self.items_list = []\\n        self.__update(iterable)\\n\\n    def update(self, iterable):\\n        print('hi')\\n\\n    __update = update   # private copy of original update() method\\n\\nclass MappingSubclass(Mapping):\\n\\n    def update(self, keys, values):\\n        print('hello')\\n\\n    __update = update   # private copy of original update() method\", 'a = Mapping([])\\nb = MappingSubclass([])\\nb.update(0,[])', \"a = Mapping([])\\nb = MappingSubclass([])\\nb.update(0,[])\\n\\neval('b.update(0,[])')\", 'print(locals())'], 'Out': {43: 'Hello World'}, 'get_ipython': <bound method InteractiveShell.get_ipython of <ipykernel.zmqshell.ZMQInteractiveShell object at 0x7f0db0793c70>>, 'exit': <IPython.core.autocall.ZMQExitAutocall object at 0x7f0db0814f70>, 'quit': <IPython.core.autocall.ZMQExitAutocall object at 0x7f0db0814f70>, '_': 'Hello World', '__': '', '___': '', 'sys': <module 'sys' (built-in)>, '_rwho_ls': ['Mapping', 'MappingSubclass', 'a', 'b', 'c', 'counter', 'k', 'os', 'sys', 'x'], 'os': <module 'os' from '/home/fongsu/.pyenv/versions/3.8.8/lib/python3.8/os.py'>, '_i': \"a = Mapping([])\\nb = MappingSubclass([])\\nb.update(0,[])\\n\\neval('b.update(0,[])')\", '_ii': 'a = Mapping([])\\nb = MappingSubclass([])\\nb.update(0,[])', '_iii': \"class Mapping:\\n    def __init__(self, iterable):\\n        self.items_list = []\\n        self.__update(iterable)\\n\\n    def update(self, iterable):\\n        print('hi')\\n\\n    __update = update   # private copy of original update() method\\n\\nclass MappingSubclass(Mapping):\\n\\n    def update(self, keys, values):\\n        print('hello')\\n\\n    __update = update   # private copy of original update() method\", '_i1': 'class counter:\\n    i = 12345\\n    def f(self):\\n        return 12345\\n    \\n    def __init__(self):\\n        pass', 'counter': <class '__main__.counter'>, '_i2': 'x = counter()\\nk = x.f()\\nprint(type(k))\\nprint(k)', 'x': <__main__.counter object at 0x7f0d971eb190>, 'k': 'Hello World', '_i3': 'class counter:\\n    i = 12345\\n    def f(self):\\n        return \"Hello World\"\\n    \\n    def __init__(self):\\n        pass', '_i4': 'x = counter()\\nk = x.f()\\nprint(type(k))\\nprint(k)', '_i5': 'print(type(couter))', '_i6': 'print(type(counter))', '_i7': 'print(type(counter.f))', '_i8': 'print(type(x.f))', '_i9': 'print(type(x))', '_i10': 'print(type(x))\\nprint(counter.f(x))', '_i11': 'a = counter()\\na.i = 1\\n\\nb = counter()\\nb.i = 2\\n\\nprint(a.i)\\nprint(b.i)', 'a': <__main__.Mapping object at 0x7f0d97062100>, 'b': <__main__.MappingSubclass object at 0x7f0d97062e80>, '_i12': 'a = counter()\\na.i = 1\\n\\nb = counter()\\nb.i = 2\\n\\nprint(a.i)\\nprint(b.i)\\nprint(a.i)', '_i13': 'a = counter()\\n# a.i = 1\\n\\nb = counter()\\n# b.i = 2\\ncounter.i = 12\\n\\nprint(a.i)\\nprint(b.i)', '_i14': 'class counter:\\n    i = 12345\\n    def f(self):\\n        self.j = 99\\n        return \"Hello World\"\\n    \\n    def __init__(self):\\n        pass', '_i15': 'class counter:\\n    i = 12345\\n    def f(self):\\n        self.j = 99\\n        return \"Hello World\"\\n    \\n    def __init__(self):\\n        pass', '_i16': 'a = counter()\\n# a.i = 1\\n\\nb = counter()\\n# b.i = 2\\ncounter.i = 12\\ncounter.j = 22\\n\\nprint(a.j)\\n\\nprint(a.i)\\nprint(b.i)', '_i17': 'a = counter()\\n# a.i = 1\\n\\nb = counter()\\n# b.i = 2\\ncounter.i = 12\\ncounter.j = 22\\n\\nprint(a.j)\\n\\nprint(a.i)\\nprint(b.i)', '_i18': 'a = counter()\\n# a.i = 1\\n\\nb = counter()\\n# b.i = 2\\ncounter.i = 12\\ncounter.j = 22\\n\\nprint(a.j)\\n\\nprint(a.i)\\nprint(b.i)', '_i19': 'class counter:\\n    i = 12345\\n    def f(self):\\n        self.j = 99\\n        self.hihi = 898\\n        return \"Hello World\"\\n    \\n    def __init__(self):\\n        pass', '_i20': 'class counter:\\n    i = 12345\\n    def f(self):\\n        self.j = 99\\n        self.hihi = 898\\n        return \"Hello World\"\\n    \\n    def __init__(self):\\n        pass', '_i21': 'class counter:\\n    i = 12345\\n    def f(self):\\n        self.j = 99\\n        self.hihi = 898\\n        return \"Hello World\"\\n    \\n    def __init__(self):\\n        pass', '_i22': 'a = counter()\\n# a.i = 1\\n\\nb = counter()\\n# b.i = 2\\n\\nprint(a.j)\\n\\n\\nprint(a.j)\\n\\nprint(a.i)\\nprint(b.i)', '_i23': 'a = counter()\\n# a.i = 1\\n\\nb = counter()\\n# b.i = 2\\n\\nprint(a.j)\\n\\n\\nprint(a.j)\\n\\nprint(a.i)\\nprint(b.i)', '_i24': 'class counter:\\n    i = 12345\\n    def f(self):\\n        return \"Hello World\"\\n    \\n    def __init__(self):\\n        self.j = 99\\n        self.hihi = 898\\n        pass', '_i25': 'class counter:\\n    i = 12345\\n    def f(self):\\n        return \"Hello World\"\\n    \\n    def __init__(self):\\n        self.j = 99\\n        self.hihi = 898', '_i26': 'a = counter()\\n# a.i = 1\\n\\nb = counter()\\n# b.i = 2\\n\\nprint(a.j)\\nprint(b.j)\\n\\nprint(a.i)\\nprint(b.i)', '_i27': 'a = counter()\\n# a.i = 1\\n\\nb = counter()\\n# b.i = 2\\n\\nprint(a.j)\\nprint(b.j)\\n\\nprint(a.i)\\nprint(b.i)', '_i28': 'a = counter()\\n# a.i = 1\\n\\nb = counter()\\n# b.i = 2\\n\\nprint(a.j)\\nprint(b.j)\\n\\na.j = 3\\n\\nprint(a.j)\\nprint(b.j)\\n\\nprint(a.i)\\nprint(b.i)', '_i29': 'c = counter()\\n\\nprint(counter.__dict__)\\nprint(c.__dict__)', 'c': <__main__.counter object at 0x7f0d96eb3280>, '_i30': 'c = counter()\\n\\nprint(counter.__dict__)\\nprint(\".....\")\\nprint(c.__dict__)', '_i31': 'c = counter()\\nc.i = 13131\\n\\nprint(counter.__dict__)\\nprint(\".....\")\\nprint(c.__dict__)', '_i32': 'class counter:\\n    i = 12345\\n    def f(self):\\n        print(i)\\n        return \"Hello World\"\\n    \\n    def __init__(self):\\n        self.j = 99\\n        self.hihi = 898', '_i33': 'class counter:\\n    i = 12345\\n    def f(self):\\n        print(i)\\n        print(j)\\n        return \"Hello World\"\\n    \\n    def __init__(self):\\n        self.j = 99\\n        self.hihi = 898', '_i34': 'class counter:\\n    i = 12345\\n    def f(self):\\n        print(i)\\n        print(j)\\n        return \"Hello World\"\\n    \\n    def __init__(self):\\n        self.j = 99\\n        self.hihi = 898', '_i35': 'a = counter()\\na.f()', '_i36': 'class counter:\\n    i = 12345\\n    def f(self):\\n        print(i)\\n        print(self.j)\\n        return \"Hello World\"\\n    \\n    def __init__(self):\\n        self.j = 99\\n        self.hihi = 898', '_i37': 'a = counter()\\na.f()', '_i38': 'a = counter()\\na.f()', '_i39': 'a = counter()\\na.f()', '_i40': 'class counter:\\n    i = 12345\\n    def f(self):\\n        print(i)\\n        print(self.j)\\n        return \"Hello World\"\\n    \\n    def __init__(self):\\n        self.j = 99\\n        self.hihi = 898', '_i41': 'a = counter()\\na.f()', '_i42': 'class counter:\\n    i = 12345\\n    def f(self):\\n        print(self.i)\\n        print(self.j)\\n        return \"Hello World\"\\n    \\n    def __init__(self):\\n        self.j = 99\\n        self.hihi = 898', '_i43': 'a = counter()\\na.f()', '_43': 'Hello World', '_i44': 'a = counter()\\na.f()\\nprint(a.__class__)\\nprint(counter.__class__)', '_i45': 'a = counter()\\na.f()\\nprint(a.__class__)\\nprint(counter.__doc__))', '_i46': 'a = counter()\\na.f()\\nprint(a.__class__)\\nprint(counter.__doc__)', '_i47': 'a = counter()\\na.f()\\nprint(a.__class__)\\nprint(counter.__doc__)\\nprint(class.__doc__)', '_i48': 'a = counter()\\na.f()\\nprint(a.__class__)\\nprint(counter.__doc__)\\nprint(int.__class__)', '_i49': 'a = counter()\\na.f()\\nprint(a.__class__)\\nprint(counter.__doc__)\\nprint(int.__class__)', '_i50': 'a = counter()\\na.f()\\nprint(a.__class__)\\nprint(counter.__doc__)\\nprint(class)', '_i51': 'a = counter()\\na.f()\\nprint(a.__class__)\\nprint(counter.__doc__)\\nprint(class)', '_i52': 'a = counter()\\na.f()\\nprint(a.__class__)\\nprint(counter.__doc__)\\nprint(class.counter)', '_i53': 'print(issubclass(int, float))', '_i54': 'print(bool.__class__)', '_i55': 'print(issubclass(bool, int))', '_i56': 'class Mapping:\\n    def __init__(self, iterable):\\n        self.items_list = []\\n        self.__update(iterable)\\n\\n    def update(self, iterable):\\n        for item in iterable:\\n            self.items_list.append(item)\\n\\n    __update = update   # private copy of original update() method\\n\\nclass MappingSubclass(Mapping):\\n\\n    def update(self, keys, values):\\n        # provides new signature for update()\\n        # but does not break __init__()\\n        for item in zip(keys, values):\\n            self.items_list.append(item)', 'Mapping': <class '__main__.Mapping'>, 'MappingSubclass': <class '__main__.MappingSubclass'>, '_i57': 'class Mapping:\\n    def __init__(self, iterable):\\n        self.items_list = []\\n        self.__update(iterable)\\n\\n    def update(self, iterable):\\n        print(1)\\n\\n    __update = update   # private copy of original update() method\\n\\nclass MappingSubclass(Mapping):\\n\\n    def update(self, keys, values):\\n        print(2)', '_i58': 'a = Mapping()\\nb = MappingSubclass()', '_i59': 'a = Mapping([])\\nb = MappingSubclass([])', '_i60': 'class Mapping:\\n    def __init__(self, iterable):\\n        self.items_list = []\\n        self.__update(iterable)\\n\\n    def update(self, iterable):\\n        print(1)\\n\\n    __update = update   # private copy of original update() method\\n\\nclass MappingSubclass(Mapping):\\n\\n    def update(self, keys, values):\\n        print(2)', '_i61': \"class Mapping:\\n    def __init__(self, iterable):\\n        self.items_list = []\\n        self.__update(iterable)\\n\\n    def update(self, iterable):\\n        print('hi')\\n\\n    __update = update   # private copy of original update() method\\n\\nclass MappingSubclass(Mapping):\\n\\n    def update(self, keys, values):\\n        print('hello')\", '_i62': \"class Mapping:\\n    def __init__(self, iterable):\\n        self.items_list = []\\n        self.__update(iterable)\\n\\n    def update(self, iterable):\\n        print('hi')\\n\\n    __update = update   # private copy of original update() method\\n\\nclass MappingSubclass(Mapping):\\n\\n    def update(self, keys, values):\\n        print('hello')\", '_i63': 'a = Mapping([])\\nb = MappingSubclass([])', '_i64': 'a = Mapping([])\\nb = MappingSubclass([])\\nb.update()', '_i65': 'a = Mapping([])\\nb = MappingSubclass([])\\nb.update([])', '_i66': 'a = Mapping([])\\nb = MappingSubclass([])\\nb.update(0,[])', '_i67': 'a = Mapping([])\\nb = MappingSubclass([])\\nb.update(0,[])', '_i68': \"class Mapping:\\n    def __init__(self, iterable):\\n        self.items_list = []\\n        self.__update(iterable)\\n\\n    def update(self, iterable):\\n        print('hi')\\n\\n    __update = update   # private copy of original update() method\\n\\nclass MappingSubclass(Mapping):\\n\\n    def update(self, keys, values):\\n        print('hello')\\n\\n    __update = update   # private copy of original update() method\", '_i69': 'a = Mapping([])\\nb = MappingSubclass([])\\nb.update(0,[])', '_i70': \"a = Mapping([])\\nb = MappingSubclass([])\\nb.update(0,[])\\n\\neval('b.update(0,[])')\", '_i71': 'print(locals())'}\n"
     ]
    }
   ],
   "source": [
    "print(locals())"
   ]
  },
  {
   "cell_type": "code",
   "execution_count": 72,
   "id": "horizontal-knight",
   "metadata": {},
   "outputs": [
    {
     "name": "stdout",
     "output_type": "stream",
     "text": [
      "<class 'int'>\n"
     ]
    }
   ],
   "source": [
    "print(bool.__base__)"
   ]
  },
  {
   "cell_type": "code",
   "execution_count": 77,
   "id": "commercial-profile",
   "metadata": {},
   "outputs": [
    {
     "name": "stdout",
     "output_type": "stream",
     "text": [
      "counter\n"
     ]
    }
   ],
   "source": [
    "print(counter.__name__)"
   ]
  },
  {
   "cell_type": "code",
   "execution_count": 5,
   "id": "graduate-highland",
   "metadata": {},
   "outputs": [
    {
     "output_type": "error",
     "ename": "NameError",
     "evalue": "name '__dict__' is not defined",
     "traceback": [
      "\u001b[0;31m---------------------------------------------------------------------------\u001b[0m",
      "\u001b[0;31mNameError\u001b[0m                                 Traceback (most recent call last)",
      "\u001b[0;32m<ipython-input-5-85ea60e2c81f>\u001b[0m in \u001b[0;36m<module>\u001b[0;34m\u001b[0m\n\u001b[0;32m----> 1\u001b[0;31m \u001b[0mprint\u001b[0m\u001b[0;34m(\u001b[0m\u001b[0m__dict__\u001b[0m\u001b[0;34m)\u001b[0m\u001b[0;34m\u001b[0m\u001b[0;34m\u001b[0m\u001b[0m\n\u001b[0m",
      "\u001b[0;31mNameError\u001b[0m: name '__dict__' is not defined"
     ]
    }
   ],
   "source": [
    "print(__dict__)"
   ]
  },
  {
   "cell_type": "code",
   "execution_count": 10,
   "metadata": {},
   "outputs": [
    {
     "output_type": "stream",
     "name": "stdout",
     "text": [
      "B\nC\nD\n"
     ]
    }
   ],
   "source": [
    "class B(Exception):\n",
    "    pass\n",
    "class C(B):\n",
    "    pass\n",
    "class D(C):\n",
    "    pass\n",
    "\n",
    "for cls in [B,C,D]:\n",
    "    try:\n",
    "        raise cls()\n",
    "    except D:\n",
    "        print(\"D\")\n",
    "    except C:\n",
    "        print(\"C\")\n",
    "    except B:\n",
    "        print(\"B\")"
   ]
  },
  {
   "cell_type": "code",
   "execution_count": 15,
   "metadata": {},
   "outputs": [
    {
     "output_type": "stream",
     "name": "stdout",
     "text": [
      "HI\n"
     ]
    },
    {
     "output_type": "error",
     "ename": "Exception",
     "evalue": "",
     "traceback": [
      "\u001b[0;31m---------------------------------------------------------------------------\u001b[0m",
      "\u001b[0;31mException\u001b[0m                                 Traceback (most recent call last)",
      "\u001b[0;32m<ipython-input-15-281a1b58cdf3>\u001b[0m in \u001b[0;36m<module>\u001b[0;34m\u001b[0m\n\u001b[1;32m      1\u001b[0m \u001b[0;32mtry\u001b[0m\u001b[0;34m:\u001b[0m\u001b[0;34m\u001b[0m\u001b[0;34m\u001b[0m\u001b[0m\n\u001b[0;32m----> 2\u001b[0;31m     \u001b[0;32mraise\u001b[0m \u001b[0mException\u001b[0m\u001b[0;34m\u001b[0m\u001b[0;34m\u001b[0m\u001b[0m\n\u001b[0m\u001b[1;32m      3\u001b[0m \u001b[0;32mexcept\u001b[0m \u001b[0mException\u001b[0m\u001b[0;34m:\u001b[0m\u001b[0;34m\u001b[0m\u001b[0;34m\u001b[0m\u001b[0m\n\u001b[1;32m      4\u001b[0m     \u001b[0mprint\u001b[0m\u001b[0;34m(\u001b[0m\u001b[0;34m\"HI\"\u001b[0m\u001b[0;34m)\u001b[0m\u001b[0;34m\u001b[0m\u001b[0;34m\u001b[0m\u001b[0m\n\u001b[1;32m      5\u001b[0m     \u001b[0;32mraise\u001b[0m\u001b[0;34m\u001b[0m\u001b[0;34m\u001b[0m\u001b[0m\n",
      "\u001b[0;31mException\u001b[0m: "
     ]
    }
   ],
   "source": [
    "try:\n",
    "    raise Exception\n",
    "except Exception:\n",
    "    print(\"HI\")\n",
    "    raise"
   ]
  },
  {
   "cell_type": "code",
   "execution_count": 18,
   "metadata": {},
   "outputs": [
    {
     "output_type": "error",
     "ename": "Exception",
     "evalue": "",
     "traceback": [
      "\u001b[0;31m---------------------------------------------------------------------------\u001b[0m",
      "\u001b[0;31mOSError\u001b[0m                                   Traceback (most recent call last)",
      "\u001b[0;32m<ipython-input-18-22d7d6f47db1>\u001b[0m in \u001b[0;36m<module>\u001b[0;34m\u001b[0m\n\u001b[1;32m      4\u001b[0m \u001b[0;32mtry\u001b[0m\u001b[0;34m:\u001b[0m\u001b[0;34m\u001b[0m\u001b[0;34m\u001b[0m\u001b[0m\n\u001b[0;32m----> 5\u001b[0;31m     \u001b[0mfunc\u001b[0m\u001b[0;34m(\u001b[0m\u001b[0;34m)\u001b[0m\u001b[0;34m\u001b[0m\u001b[0;34m\u001b[0m\u001b[0m\n\u001b[0m\u001b[1;32m      6\u001b[0m \u001b[0;32mexcept\u001b[0m \u001b[0mIOError\u001b[0m \u001b[0;32mas\u001b[0m \u001b[0mexc\u001b[0m\u001b[0;34m:\u001b[0m\u001b[0;34m\u001b[0m\u001b[0;34m\u001b[0m\u001b[0m\n",
      "\u001b[0;32m<ipython-input-18-22d7d6f47db1>\u001b[0m in \u001b[0;36mfunc\u001b[0;34m()\u001b[0m\n\u001b[1;32m      1\u001b[0m \u001b[0;32mdef\u001b[0m \u001b[0mfunc\u001b[0m\u001b[0;34m(\u001b[0m\u001b[0;34m)\u001b[0m\u001b[0;34m:\u001b[0m\u001b[0;34m\u001b[0m\u001b[0;34m\u001b[0m\u001b[0m\n\u001b[0;32m----> 2\u001b[0;31m     \u001b[0;32mraise\u001b[0m \u001b[0mIOError\u001b[0m\u001b[0;34m\u001b[0m\u001b[0;34m\u001b[0m\u001b[0m\n\u001b[0m\u001b[1;32m      3\u001b[0m \u001b[0;34m\u001b[0m\u001b[0m\n",
      "\u001b[0;31mOSError\u001b[0m: ",
      "\nThe above exception was the direct cause of the following exception:\n",
      "\u001b[0;31mException\u001b[0m                                 Traceback (most recent call last)",
      "\u001b[0;32m<ipython-input-18-22d7d6f47db1>\u001b[0m in \u001b[0;36m<module>\u001b[0;34m\u001b[0m\n\u001b[1;32m      5\u001b[0m     \u001b[0mfunc\u001b[0m\u001b[0;34m(\u001b[0m\u001b[0;34m)\u001b[0m\u001b[0;34m\u001b[0m\u001b[0;34m\u001b[0m\u001b[0m\n\u001b[1;32m      6\u001b[0m \u001b[0;32mexcept\u001b[0m \u001b[0mIOError\u001b[0m \u001b[0;32mas\u001b[0m \u001b[0mexc\u001b[0m\u001b[0;34m:\u001b[0m\u001b[0;34m\u001b[0m\u001b[0;34m\u001b[0m\u001b[0m\n\u001b[0;32m----> 7\u001b[0;31m     \u001b[0;32mraise\u001b[0m \u001b[0mException\u001b[0m \u001b[0;32mfrom\u001b[0m \u001b[0mexc\u001b[0m\u001b[0;34m\u001b[0m\u001b[0;34m\u001b[0m\u001b[0m\n\u001b[0m",
      "\u001b[0;31mException\u001b[0m: "
     ]
    }
   ],
   "source": [
    "def func():\n",
    "    raise IOError\n",
    "\n",
    "try:\n",
    "    func()\n",
    "except IOError as exc:\n",
    "    raise Exception from exc"
   ]
  },
  {
   "cell_type": "code",
   "execution_count": null,
   "metadata": {},
   "outputs": [],
   "source": []
  }
 ],
 "metadata": {
  "kernelspec": {
   "name": "python3",
   "display_name": "Python 3.8.8 64-bit ('r_learning_gym')",
   "metadata": {
    "interpreter": {
     "hash": "1eccbdd9cb401785f0a9974d78dcb05478868d92cd150c4bacc25e8fef2e16d2"
    }
   }
  },
  "language_info": {
   "codemirror_mode": {
    "name": "ipython",
    "version": 3
   },
   "file_extension": ".py",
   "mimetype": "text/x-python",
   "name": "python",
   "nbconvert_exporter": "python",
   "pygments_lexer": "ipython3",
   "version": "3.8.8-final"
  }
 },
 "nbformat": 4,
 "nbformat_minor": 5
}