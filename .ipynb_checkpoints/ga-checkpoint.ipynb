{
 "cells": [
  {
   "cell_type": "code",
   "execution_count": 10,
   "metadata": {},
   "outputs": [],
   "source": [
    "import numpy as np\n",
    "from geneticalgorithm import geneticalgorithm as ga\n",
    "import matplotlib.pyplot as plt\n",
    "import numpy as np\n",
    "import dplm_base\n",
    "\n",
    "import time\n",
    "\n",
    "\n"
   ]
  },
  {
   "cell_type": "code",
   "execution_count": 11,
   "metadata": {},
   "outputs": [
    {
     "name": "stdout",
     "output_type": "stream",
     "text": [
      "Column names are linkage, length, mass\n",
      "alpha_o1o_1:0\n",
      "alpha_o2o4:0\n",
      "alpha_o2o_2:0\n",
      "alpha_o3o_3:0\n",
      "alpha_o4o_4:0\n",
      "alpha_o_1o_2:0\n",
      "l_o1o2:0.254\n",
      "l_o1o3:0.10699999999999998\n",
      "l_o1o_1:0.762\n",
      "l_o2o4:0.615\n",
      "l_o2o_2:0.762\n",
      "l_o3o4:0.254\n",
      "l_o3o_3:0.648\n",
      "l_o4o_4:0.648\n",
      "l_o_1o_2:0.254\n",
      "l_o_3o_4:0.254\n",
      "m_o1o2:0.29870661\n",
      "m_o1o_1:0.84734661\n",
      "m_o2o4:0.67904403\n",
      "m_o2o_2:0.84734661\n",
      "m_o3o_3:0.72422661\n",
      "m_o4o_4:0.72422661\n",
      "m_o_1o_2:0.29870661\n",
      "r_o1o_1:0.381\n",
      "r_o2o4:0.3075\n",
      "r_o2o_2:0.381\n",
      "r_o3o_3:0.324\n",
      "r_o4o_4:0.324\n",
      "r_o_1o_2:0.127\n",
      "The number of slots is set to 10\n"
     ]
    }
   ],
   "source": [
    "dplm_instance = dplm_base.dplm('para1.csv')\n",
    "dplm_instance.show_dplm_config()\n",
    "dplm_instance.set_dplm_slot_num(10)\n",
    "dplm_instance.set_dplm_spring_num(3)\n",
    "dplm_instance.set_dplm_allowed_angle_range(-20, 60, 1)\n",
    "\n",
    "dplm_instance.set_dplm_spring_constants([400,300,200])\n",
    "dplm_instance.set_dplm_spring_lengths([0.2, 0.15, 0.1])\n",
    "\n",
    "# dplm_instance.calculate_current_moment\n",
    "# dplm_instance.set_slot([-6, 18, 0])\n",
    "# moment_weight, moment_spring_list, moment_total = dplm_instance.calculate_current_moment()\n",
    "# lower_limit, upper_limit, step_size, total_angle_num = dplm_instance.get_allowed_angle_range().values()\n",
    "# 26 32 38\n",
    "#13 37 38"
   ]
  },
  {
   "cell_type": "code",
   "execution_count": null,
   "metadata": {},
   "outputs": [],
   "source": [
    "import numpy as np\n",
    "%matplotlib inline\n",
    "\n",
    "install_position_step = 1e-2\n",
    "spring_constant_step = 1e1\n",
    "spring_length_step = 1e-2\n",
    "\n",
    "\n",
    "def f(X):\n",
    "    dplm_instance.set_springs_positions(np.array([X[0],X[1],X[2]])*install_position_step)\n",
    "    dplm_instance.set_dplm_spring_lengths(np.array([X[3],X[4],X[5]])*spring_length_step)\n",
    "    dplm_instance.set_dplm_spring_constants(np.array([X[6],X[7],X[8]])*spring_constant_step)\n",
    "    return dplm_instance.current_rmse(False)\n",
    "\n",
    "varbound=np.array([[-0.4/install_position_step,0.4/install_position_step]]*3+ [[0.1/spring_length_step,0.3/spring_length_step]]*3+ [[200/spring_constant_step, 400/spring_constant_step]]*3)\n",
    "varbound = varbound.astype(int)\n",
    "\n",
    "model=ga(function=f,dimension=9,variable_type='real',variable_boundaries=varbound)\n",
    "\n",
    "\n",
    "start = time.time()\n",
    "print(\"Timer starts at {}\".format(start))\n",
    "model.run()\n",
    "end = time.time()\n",
    "print('timer ends at {}'.format(end))\n",
    "print('time elapsed: {}'.format(end - start))"
   ]
  },
  {
   "cell_type": "code",
   "execution_count": 16,
   "metadata": {},
   "outputs": [
    {
     "name": "stdout",
     "output_type": "stream",
     "text": [
      "Timer starts at 1617873614.8526244\n",
      " The best solution found:                                                                           \n",
      " [-0.03184762 -0.09006709  8.31186673]\n",
      "\n",
      " Objective function:\n",
      " 0.6417059792262099\n"
     ]
    },
    {
     "data": {
      "image/png": "[encoded data removed]",
      "text/plain": [
       "<Figure size 432x288 with 1 Axes>"
      ]
     },
     "metadata": {
      "needs_background": "light"
     },
     "output_type": "display_data"
    },
    {
     "name": "stdout",
     "output_type": "stream",
     "text": [
      "timer ends at 1617873957.1732388\n",
      "time elapsed: 342.32061433792114\n"
     ]
    }
   ],
   "source": [
    "import numpy as np\n",
    "def f2(X):\n",
    "    dplm_instance.set_slot(X)\n",
    "    return dplm_instance.current_rmse()\n",
    "\n",
    "varbound2=np.array([[-9, 9]]*3)\n",
    "\n",
    "    \n",
    "    \n",
    "model2 = ga(function=f2,dimension=3,variable_type='real',variable_boundaries=varbound2)\n",
    "\n",
    "start = time.time()\n",
    "print(\"Timer starts at {}\".format(start))\n",
    "model2.run()\n",
    "end = time.time()\n",
    "print('timer ends at {}'.format(end))\n",
    "print('time elapsed: {}'.format(end - start))"
   ]
  },
  {
   "cell_type": "code",
   "execution_count": 3,
   "metadata": {},
   "outputs": [],
   "source": [
    "# dplm_instance.set_dplm_spring_constants([4.17019967,4.11513749,39.99470074])\n",
    "# dplm_instance.set_dplm_spring_lengths([10.00432132, 10.01856989, 10.00480628])\n",
    "# dplm_instance.set_springs_positions([39.99833592,39.99973714,32.87578594])\n",
    "dplm_instance.set_slot([-0.03184762, -0.09006709,  8.31186673])\n",
    "\n",
    " [ 4.17019967  4.11513749 39.99470074 10.00432132 10.01856989 10.00480628\n",
    " 39.99833592 39.99973714 32.87578594]"
   ]
  },
  {
   "cell_type": "code",
   "execution_count": 9,
   "metadata": {},
   "outputs": [
    {
     "data": {
      "image/png": "[encoded data removed]",
      "text/plain": [
       "<Figure size 432x288 with 1 Axes>"
      ]
     },
     "metadata": {
      "needs_background": "light"
     },
     "output_type": "display_data"
    }
   ],
   "source": [
    "a,b,c,rmse= dplm_instance.calculate_current_moment(False)\n",
    "lower_limit, upper_limit, step_size, total_angle_num = dplm_instance.get_allowed_angle_range().values()\n",
    "%matplotlib inline\n",
    "plt.cla()    \n",
    "plt.plot(range(lower_limit, upper_limit+1), a, label = 'moment_weight', ls = '--', lw = 3, color = 'mediumaquamarine')\n",
    "\n",
    "ax = plt.gca()\n",
    "\n",
    "for i in range(len(b)):\n",
    "    plt.plot(range(lower_limit,upper_limit+1), b[i], label = 'moment_spring_{}'.format(i+1), ls = '--', lw = 3, color = 'cornflowerblue')\n",
    "\n",
    "plt.plot(range(lower_limit, upper_limit+1), c, label = 'moment_total', ls = '--', lw = 3, color = 'mediumslateblue')\n",
    "plt.axhline(y = 0, ls = '-', lw = 3, color = 'darkgrey')\n",
    "\n",
    "plt.axis(ymin=-20, ymax=50)\n",
    "plt.legend()\n",
    "plt.xlabel('angle [degree]')\n",
    "plt.ylabel('moment [Nm]')\n",
    "ax.xaxis.set_major_formatter('{x}°')\n",
    "\n",
    "\n",
    "plt.text(-10,-10, r'$RMSE={:.2f}$'.format(rmse))\n",
    "\n",
    "plt.savefig('anything.png')\n",
    "plt.show()\n"
   ]
  },
  {
   "cell_type": "code",
   "execution_count": null,
   "metadata": {},
   "outputs": [],
   "source": [
    "import numpy as np\n",
    "\n",
    "install_position_step = 1e-3\n",
    "spring_constant_step = 1e1\n",
    "spring_length_step = 1e-3\n",
    "\n",
    "\n",
    "def f(X):\n",
    "    dplm_instance.set_springs_positions(np.array([X[0],X[1],X[2]])*install_position_step)\n",
    "    dplm_instance.set_dplm_spring_lengths(np.array([X[3],X[4],X[5]])*spring_length_step)\n",
    "    dplm_instance.set_dplm_spring_constants(np.array([X[6],X[7],X[8]])*spring_constant_step)\n",
    "    return dplm_instance.current_rmse()\n",
    "    \n",
    "    \n",
    "varbound=np.array([[-0.4/install_position_step,0.4/install_position_step]]*3+ [[0.1/spring_length_step,0.3/spring_length_step]]*3+ [[200/spring_constant_step, 400/spring_constant_step]]*3)\n",
    "\n",
    "print(varbound.astype(int))"
   ]
  },
  {
   "cell_type": "code",
   "execution_count": null,
   "metadata": {},
   "outputs": [],
   "source": []
  }
 ],
 "metadata": {
  "kernelspec": {
   "display_name": "Python3.8.8_r_learning_gym",
   "language": "python",
   "name": "r_learning_gym"
  },
  "language_info": {
   "codemirror_mode": {
    "name": "ipython",
    "version": 3
   },
   "file_extension": ".py",
   "mimetype": "text/x-python",
   "name": "python",
   "nbconvert_exporter": "python",
   "pygments_lexer": "ipython3",
   "version": "3.8.8"
  }
 },
 "nbformat": 4,
 "nbformat_minor": 4
}
