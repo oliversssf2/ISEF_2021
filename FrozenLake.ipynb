{
 "cells": [
  {
   "cell_type": "code",
   "execution_count": 2,
   "metadata": {},
   "outputs": [],
   "source": [
    "import numpy as np\n",
    "import random\n",
    "import gym\n",
    "import time\n",
    "from IPython.display import clear_output"
   ]
  },
  {
   "cell_type": "code",
   "execution_count": 3,
   "metadata": {},
   "outputs": [],
   "source": [
    "env = gym.make(\"FrozenLake-v0\")"
   ]
  },
  {
   "cell_type": "code",
   "execution_count": 6,
   "metadata": {},
   "outputs": [],
   "source": [
    "#initialize action and state spaces\n",
    "action_space_size = env.action_space.n\n",
    "state_space_size = env.observation_space.n"
   ]
  },
  {
   "cell_type": "code",
   "execution_count": 9,
   "metadata": {},
   "outputs": [
    {
     "name": "stdout",
     "output_type": "stream",
     "text": [
      "[[0. 0. 0. 0.]\n",
      " [0. 0. 0. 0.]\n",
      " [0. 0. 0. 0.]\n",
      " [0. 0. 0. 0.]\n",
      " [0. 0. 0. 0.]\n",
      " [0. 0. 0. 0.]\n",
      " [0. 0. 0. 0.]\n",
      " [0. 0. 0. 0.]\n",
      " [0. 0. 0. 0.]\n",
      " [0. 0. 0. 0.]\n",
      " [0. 0. 0. 0.]\n",
      " [0. 0. 0. 0.]\n",
      " [0. 0. 0. 0.]\n",
      " [0. 0. 0. 0.]\n",
      " [0. 0. 0. 0.]\n",
      " [0. 0. 0. 0.]]\n"
     ]
    }
   ],
   "source": [
    "#initialize Q-table\n",
    "q_table = np.zeros([state_space_size,action_space_size])\n",
    "print(q_table)"
   ]
  },
  {
   "cell_type": "code",
   "execution_count": 14,
   "metadata": {},
   "outputs": [],
   "source": [
    "#Initializing Q-Learning Parameters\n",
    "num_episodes = 10000\n",
    "max_steps_per_episode = 100\n",
    "\n",
    "learning_rate = 0.1\n",
    "discount_rate = 0.99\n",
    "\n",
    "exploration_rate = 1\n",
    "max_exploration_rate = 1\n",
    "min_exploration_rate = 0.01\n",
    "exploration_decay_rate = 0.001"
   ]
  },
  {
   "cell_type": "code",
   "execution_count": 15,
   "metadata": {},
   "outputs": [],
   "source": [
    "rewards_all_episodes = []"
   ]
  },
  {
   "cell_type": "code",
   "execution_count": 19,
   "metadata": {},
   "outputs": [
    {
     "name": "stdout",
     "output_type": "stream",
     "text": [
      "  (Up)\n",
      "\u001b[41mS\u001b[0mFFF\n",
      "FHFH\n",
      "FFFH\n",
      "HFFG\n"
     ]
    },
    {
     "ename": "KeyboardInterrupt",
     "evalue": "",
     "output_type": "error",
     "traceback": [
      "\u001b[0;31m---------------------------------------------------------------------------\u001b[0m",
      "\u001b[0;31mKeyboardInterrupt\u001b[0m                         Traceback (most recent call last)",
      "\u001b[0;32m<ipython-input-19-d23619a441f7>\u001b[0m in \u001b[0;36m<module>\u001b[0;34m\u001b[0m\n\u001b[1;32m     11\u001b[0m         \u001b[0mclear_output\u001b[0m\u001b[0;34m(\u001b[0m\u001b[0mwait\u001b[0m \u001b[0;34m=\u001b[0m \u001b[0;32mTrue\u001b[0m\u001b[0;34m)\u001b[0m\u001b[0;34m\u001b[0m\u001b[0;34m\u001b[0m\u001b[0m\n\u001b[1;32m     12\u001b[0m         \u001b[0menv\u001b[0m\u001b[0;34m.\u001b[0m\u001b[0mrender\u001b[0m\u001b[0;34m(\u001b[0m\u001b[0;34m)\u001b[0m\u001b[0;34m\u001b[0m\u001b[0;34m\u001b[0m\u001b[0m\n\u001b[0;32m---> 13\u001b[0;31m         \u001b[0mtime\u001b[0m\u001b[0;34m.\u001b[0m\u001b[0msleep\u001b[0m\u001b[0;34m(\u001b[0m\u001b[0;36m0.3\u001b[0m\u001b[0;34m)\u001b[0m\u001b[0;34m\u001b[0m\u001b[0;34m\u001b[0m\u001b[0m\n\u001b[0m\u001b[1;32m     14\u001b[0m \u001b[0;34m\u001b[0m\u001b[0m\n\u001b[1;32m     15\u001b[0m \u001b[0;34m\u001b[0m\u001b[0m\n",
      "\u001b[0;31mKeyboardInterrupt\u001b[0m: "
     ]
    }
   ],
   "source": [
    "#Q-learning algorithm\n",
    "for episode in range(num_episodes):\n",
    "    #initialize new episode params\n",
    "    state = env.reset()\n",
    "    done = False\n",
    "    \n",
    "    #####useless visualization#####\n",
    "    print(\"******EPISODE{}******\\n\\n\\n\\n\".format(episode+1))\n",
    "    time.sleep(1)\n",
    "    ######end of useless visualization#####\n",
    "    \n",
    "    rewards_current_episode = 0\n",
    "    \n",
    "    for step in range(max_steps_per_episode):\n",
    "        \n",
    "        #####useless visualization#####\n",
    "        clear_output(wait = True)\n",
    "        env.render()\n",
    "        time.sleep(0.3)\n",
    "        ######end of useless visualization#####\n",
    "        \n",
    "        \n",
    "        #Exploration-exploitation trade-off\n",
    "        exploration_rate_threshold = random.uniform(0,1)\n",
    "        if exploration_rate_threshold > exploration_rate:\n",
    "            action = np.argmax(q_table[state,:])\n",
    "        else:\n",
    "            action = env.action_space.sample()\n",
    "        \n",
    "        #Take new action    \n",
    "        new_state, reward, done, info = env.step(action)\n",
    "        \n",
    "        #Update Q-table\n",
    "        q_table[state,action] = q_table[state, action] * (1 - learning_rate) + \\\n",
    "            learning_rate * (reward + discount_rate * np.max(q_table[new_state,:]))\n",
    "            \n",
    "        #Set new state\n",
    "        state = new_state\n",
    "        \n",
    "        #Add new reward\n",
    "        rewards_current_episode += reward \n",
    "        \n",
    "        if done:\n",
    "            \n",
    "            #####useless visualization#####\n",
    "            clear_output(wait=True)\n",
    "            env.render()\n",
    "            if reward == 1:\n",
    "                print(\"****You reached the goal!****\")\n",
    "                time.sleep(3)\n",
    "            else:\n",
    "                print(\"****You fell through a hole!****\")\n",
    "                time.sleep(3)\n",
    "                clear_output(wait=True)\n",
    "            ######end of useless visualization#####\n",
    "                \n",
    "            break\n",
    "    \n",
    "    #Exploration rate decay\n",
    "    exploration_rate = min_exploration_rate + \\\n",
    "        (max_exploration_rate - min_exploration_rate) * \\\n",
    "        np.exp(-exploration_decay_rate*episode)\n",
    "    \n",
    "    #Add current episode reward to total rewards list\n",
    "    rewards_all_episodes.append(rewards_current_episode)"
   ]
  },
  {
   "cell_type": "code",
   "execution_count": 17,
   "metadata": {},
   "outputs": [
    {
     "name": "stdout",
     "output_type": "stream",
     "text": [
      "1000: 0.04900000000000004\n",
      "2000: 0.18000000000000013\n",
      "3000: 0.3930000000000003\n",
      "4000: 0.5570000000000004\n",
      "5000: 0.6530000000000005\n",
      "6000: 0.6460000000000005\n",
      "7000: 0.7040000000000005\n",
      "8000: 0.6850000000000005\n",
      "9000: 0.6620000000000005\n",
      "10000: 0.6910000000000005\n",
      "11000: 0.6790000000000005\n",
      "12000: 0.7030000000000005\n",
      "13000: 0.6690000000000005\n",
      "14000: 0.6990000000000005\n",
      "15000: 0.7000000000000005\n",
      "16000: 0.6860000000000005\n",
      "17000: 0.6830000000000005\n",
      "18000: 0.6750000000000005\n",
      "19000: 0.6920000000000005\n",
      "20000: 0.6870000000000005\n",
      "21000: 0.6850000000000005\n",
      "22000: 0.6840000000000005\n",
      "23000: 0.6880000000000005\n",
      "24000: 0.6870000000000005\n",
      "25000: 0.7070000000000005\n",
      "26000: 0.6780000000000005\n",
      "27000: 0.6940000000000005\n",
      "28000: 0.6710000000000005\n",
      "29000: 0.6940000000000005\n",
      "30000: 0.6900000000000005\n",
      "31000: 0.6700000000000005\n",
      "32000: 0.6960000000000005\n",
      "33000: 0.6960000000000005\n",
      "34000: 0.7240000000000005\n",
      "35000: 0.6870000000000005\n",
      "36000: 0.6650000000000005\n",
      "37000: 0.6980000000000005\n",
      "38000: 0.6930000000000005\n",
      "39000: 0.6990000000000005\n",
      "40000: 0.7020000000000005\n",
      "41000: 0.6780000000000005\n",
      "42000: 0.6880000000000005\n",
      "43000: 0.6620000000000005\n",
      "44000: 0.7120000000000005\n",
      "45000: 0.7060000000000005\n",
      "46000: 0.6590000000000005\n",
      "47000: 0.6730000000000005\n",
      "48000: 0.6870000000000005\n",
      "49000: 0.7130000000000005\n",
      "50000: 0.6750000000000005\n",
      "51000: 0.6790000000000005\n",
      "52000: 0.6820000000000005\n",
      "53000: 0.6810000000000005\n",
      "54000: 0.7160000000000005\n",
      "55000: 0.6820000000000005\n",
      "56000: 0.7020000000000005\n",
      "57000: 0.7030000000000005\n",
      "58000: 0.6870000000000005\n",
      "59000: 0.6650000000000005\n",
      "60000: 0.6910000000000005\n",
      "61000: 0.6550000000000005\n",
      "62000: 0.6990000000000005\n",
      "63000: 0.6950000000000005\n",
      "64000: 0.6790000000000005\n",
      "65000: 0.6800000000000005\n",
      "66000: 0.7100000000000005\n",
      "67000: 0.6800000000000005\n",
      "68000: 0.6990000000000005\n",
      "69000: 0.6540000000000005\n",
      "70000: 0.7210000000000005\n",
      "71000: 0.6970000000000005\n",
      "72000: 0.6800000000000005\n",
      "73000: 0.7010000000000005\n",
      "74000: 0.6760000000000005\n",
      "75000: 0.6830000000000005\n",
      "76000: 0.6660000000000005\n",
      "77000: 0.6790000000000005\n",
      "78000: 0.6800000000000005\n",
      "79000: 0.6800000000000005\n",
      "80000: 0.6990000000000005\n",
      "81000: 0.6890000000000005\n",
      "82000: 0.6690000000000005\n",
      "83000: 0.6900000000000005\n",
      "84000: 0.6630000000000005\n",
      "85000: 0.6840000000000005\n",
      "86000: 0.6940000000000005\n",
      "87000: 0.6750000000000005\n",
      "88000: 0.6600000000000005\n",
      "89000: 0.6950000000000005\n",
      "90000: 0.6810000000000005\n",
      "91000: 0.7330000000000005\n",
      "92000: 0.6510000000000005\n",
      "93000: 0.6890000000000005\n",
      "94000: 0.6890000000000005\n",
      "95000: 0.6960000000000005\n",
      "96000: 0.6530000000000005\n",
      "97000: 0.6720000000000005\n",
      "98000: 0.6950000000000005\n",
      "99000: 0.6850000000000005\n",
      "100000: 0.6930000000000005\n"
     ]
    }
   ],
   "source": [
    "#Calculate and print the average reward per thousand episodes\n",
    "rewards_per_thousand_episodes = \\\n",
    "    np.split(np.array(rewards_all_episodes),num_episodes/1000)\n",
    "count = 1000\n",
    "\n",
    "\n",
    "for r in rewards_per_thousand_episodes:\n",
    "    print(\"{}: {}\".format(count, str(sum(r/1000))))\n",
    "    count += 1000\n",
    "    \n",
    "\n",
    "\n",
    "\n",
    "\n",
    "\n"
   ]
  },
  {
   "cell_type": "code",
   "execution_count": 18,
   "metadata": {},
   "outputs": [
    {
     "name": "stdout",
     "output_type": "stream",
     "text": [
      "\n",
      "\n",
      "********Q-table********\n",
      "\n",
      "[[0.48989934 0.48878679 0.48766029 0.48966302]\n",
      " [0.41144536 0.31400807 0.30505188 0.47154542]\n",
      " [0.43582852 0.39208127 0.42404123 0.45486882]\n",
      " [0.25077437 0.41810116 0.28725133 0.44851562]\n",
      " [0.49626898 0.43656853 0.32765843 0.31247636]\n",
      " [0.         0.         0.         0.        ]\n",
      " [0.26078894 0.1407835  0.19166344 0.13832385]\n",
      " [0.         0.         0.         0.        ]\n",
      " [0.40086976 0.43577989 0.50388273 0.5223007 ]\n",
      " [0.41133206 0.55164089 0.52554229 0.31828891]\n",
      " [0.47185062 0.42668242 0.4342857  0.41866389]\n",
      " [0.         0.         0.         0.        ]\n",
      " [0.         0.         0.         0.        ]\n",
      " [0.61975422 0.47102948 0.65197119 0.55364279]\n",
      " [0.69019658 0.82427233 0.74177968 0.69895371]\n",
      " [0.         0.         0.         0.        ]]\n"
     ]
    }
   ],
   "source": [
    "# Print updated Q-table\n",
    "print(\"\\n\\n********Q-table********\\n\")\n",
    "print(q_table)\n"
   ]
  },
  {
   "cell_type": "code",
   "execution_count": null,
   "metadata": {},
   "outputs": [],
   "source": []
  }
 ],
 "metadata": {
  "kernelspec": {
   "display_name": "Python 3",
   "language": "python",
   "name": "python3"
  },
  "language_info": {
   "codemirror_mode": {
    "name": "ipython",
    "version": 3
   },
   "file_extension": ".py",
   "mimetype": "text/x-python",
   "name": "python",
   "nbconvert_exporter": "python",
   "pygments_lexer": "ipython3",
   "version": "3.8.3"
  }
 },
 "nbformat": 4,
 "nbformat_minor": 4
}
