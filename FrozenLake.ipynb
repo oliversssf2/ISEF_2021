{
 "cells": [
  {
   "cell_type": "code",
   "execution_count": 8,
   "metadata": {},
   "outputs": [],
   "source": [
    "#Required imports\n",
    "import numpy as np\n",
    "import random\n",
    "import gym\n",
    "import time\n",
    "from IPython.display import clear_output"
   ]
  },
  {
   "cell_type": "code",
   "execution_count": 9,
   "metadata": {},
   "outputs": [],
   "source": [
    "env = gym.make(\"FrozenLake-v0\")"
   ]
  },
  {
   "cell_type": "code",
   "execution_count": 10,
   "metadata": {},
   "outputs": [],
   "source": [
    "#initialize action and state spaces\n",
    "action_space_size = env.action_space.n\n",
    "state_space_size = env.observation_space.n"
   ]
  },
  {
   "cell_type": "code",
   "execution_count": 11,
   "metadata": {},
   "outputs": [
    {
     "name": "stdout",
     "output_type": "stream",
     "text": [
      "[[0. 0. 0. 0.]\n",
      " [0. 0. 0. 0.]\n",
      " [0. 0. 0. 0.]\n",
      " [0. 0. 0. 0.]\n",
      " [0. 0. 0. 0.]\n",
      " [0. 0. 0. 0.]\n",
      " [0. 0. 0. 0.]\n",
      " [0. 0. 0. 0.]\n",
      " [0. 0. 0. 0.]\n",
      " [0. 0. 0. 0.]\n",
      " [0. 0. 0. 0.]\n",
      " [0. 0. 0. 0.]\n",
      " [0. 0. 0. 0.]\n",
      " [0. 0. 0. 0.]\n",
      " [0. 0. 0. 0.]\n",
      " [0. 0. 0. 0.]]\n"
     ]
    }
   ],
   "source": [
    "#initialize Q-table\n",
    "q_table = np.zeros([state_space_size,action_space_size])\n",
    "print(q_table)"
   ]
  },
  {
   "cell_type": "code",
   "execution_count": 12,
   "metadata": {},
   "outputs": [],
   "source": [
    "#Initializing Q-Learning Parameters\n",
    "num_episodes = 10000\n",
    "max_steps_per_episode = 100\n",
    "\n",
    "learning_rate = 0.1\n",
    "discount_rate = 0.99\n",
    "\n",
    "exploration_rate = 1\n",
    "max_exploration_rate = 1\n",
    "min_exploration_rate = 0.01\n",
    "exploration_decay_rate = 0.001"
   ]
  },
  {
   "cell_type": "code",
   "execution_count": 13,
   "metadata": {},
   "outputs": [],
   "source": [
    "rewards_all_episodes = []"
   ]
  },
  {
   "cell_type": "code",
   "execution_count": 14,
   "metadata": {},
   "outputs": [],
   "source": [
    "#Q-learning algorithm\n",
    "for episode in range(num_episodes):\n",
    "    #initialize new episode params\n",
    "    state = env.reset()\n",
    "    done = False\n",
    "    \n",
    "#     #####useless visualization#####\n",
    "#     print(\"******EPISODE{}******\\n\\n\\n\\n\".format(episode+1))\n",
    "#     time.sleep(1)\n",
    "#     ######end of useless visualization#####\n",
    "    \n",
    "    rewards_current_episode = 0\n",
    "    \n",
    "    for step in range(max_steps_per_episode):\n",
    "        \n",
    "#         #####useless visualization#####\n",
    "#         clear_output(wait = True)\n",
    "#         env.render()\n",
    "#         time.sleep(0.3)\n",
    "#         ######end of useless visualization#####\n",
    "        \n",
    "        \n",
    "        #Exploration-exploitation trade-off\n",
    "        exploration_rate_threshold = random.uniform(0,1)\n",
    "        if exploration_rate_threshold > exploration_rate:\n",
    "            action = np.argmax(q_table[state,:])\n",
    "        else:\n",
    "            action = env.action_space.sample()\n",
    "        \n",
    "        #Take new action    \n",
    "        new_state, reward, done, info = env.step(action)\n",
    "        \n",
    "        #Update Q-table\n",
    "        q_table[state,action] = q_table[state, action] * (1 - learning_rate) + \\\n",
    "            learning_rate * (reward + discount_rate * np.max(q_table[new_state,:]))\n",
    "            \n",
    "        #Set new state\n",
    "        state = new_state\n",
    "        \n",
    "        #Add new reward\n",
    "        rewards_current_episode += reward \n",
    "        \n",
    "        if done:\n",
    "            \n",
    "#             #####useless visualization#####\n",
    "#             clear_output(wait=True)\n",
    "#             env.render()\n",
    "#             if reward == 1:\n",
    "#                 print(\"****You reached the goal!****\")\n",
    "#                 time.sleep(3)\n",
    "#             else:\n",
    "#                 print(\"****You fell through a hole!****\")\n",
    "#                 time.sleep(3)\n",
    "#                 clear_output(wait=True)\n",
    "#             ######end of useless visualization#####\n",
    "                \n",
    "            break\n",
    "    \n",
    "    #Exploration rate decay\n",
    "    exploration_rate = min_exploration_rate + \\\n",
    "        (max_exploration_rate - min_exploration_rate) * \\\n",
    "        np.exp(-exploration_decay_rate*episode)\n",
    "    \n",
    "    #Add current episode reward to total rewards list\n",
    "    rewards_all_episodes.append(rewards_current_episode)"
   ]
  },
  {
   "cell_type": "code",
   "execution_count": 15,
   "metadata": {},
   "outputs": [
    {
     "name": "stdout",
     "output_type": "stream",
     "text": [
      "1000: 0.04900000000000004\n",
      "2000: 0.19700000000000015\n",
      "3000: 0.43800000000000033\n",
      "4000: 0.5520000000000004\n",
      "5000: 0.6180000000000004\n",
      "6000: 0.6610000000000005\n",
      "7000: 0.6410000000000005\n",
      "8000: 0.6880000000000005\n",
      "9000: 0.6690000000000005\n",
      "10000: 0.7160000000000005\n"
     ]
    }
   ],
   "source": [
    "#Calculate and print the average reward per thousand episodes\n",
    "rewards_per_thousand_episodes = \\\n",
    "    np.split(np.array(rewards_all_episodes),num_episodes/1000)\n",
    "count = 1000\n",
    "\n",
    "\n",
    "for r in rewards_per_thousand_episodes:\n",
    "    print(\"{}: {}\".format(count, str(sum(r/1000))))\n",
    "    count += 1000\n",
    "    \n",
    "\n",
    "\n",
    "\n",
    "\n",
    "\n"
   ]
  },
  {
   "cell_type": "code",
   "execution_count": 16,
   "metadata": {},
   "outputs": [
    {
     "name": "stdout",
     "output_type": "stream",
     "text": [
      "\n",
      "\n",
      "********Q-table********\n",
      "\n",
      "[[0.58405569 0.5407144  0.53886036 0.52782966]\n",
      " [0.25947223 0.32145305 0.2727128  0.52956587]\n",
      " [0.39832211 0.40389772 0.41560835 0.47970348]\n",
      " [0.24525728 0.28185711 0.29816697 0.46217652]\n",
      " [0.6071876  0.39496111 0.30789163 0.42759897]\n",
      " [0.         0.         0.         0.        ]\n",
      " [0.18441499 0.16812672 0.37889649 0.09263664]\n",
      " [0.         0.         0.         0.        ]\n",
      " [0.34040837 0.41593509 0.48177029 0.65482966]\n",
      " [0.34729415 0.68498514 0.56617136 0.41326305]\n",
      " [0.69002027 0.36930359 0.41873134 0.43528723]\n",
      " [0.         0.         0.         0.        ]\n",
      " [0.         0.         0.         0.        ]\n",
      " [0.5688481  0.44413111 0.77668172 0.53146997]\n",
      " [0.74621249 0.86406698 0.76268939 0.69060571]\n",
      " [0.         0.         0.         0.        ]]\n"
     ]
    }
   ],
   "source": [
    "# Print updated Q-table\n",
    "print(\"\\n\\n********Q-table********\\n\")\n",
    "print(q_table)\n"
   ]
  },
  {
   "cell_type": "code",
   "execution_count": null,
   "metadata": {},
   "outputs": [],
   "source": []
  }
 ],
 "metadata": {
  "kernelspec": {
   "display_name": "Python 3",
   "language": "python",
   "name": "python3"
  },
  "language_info": {
   "codemirror_mode": {
    "name": "ipython",
    "version": 3
   },
   "file_extension": ".py",
   "mimetype": "text/x-python",
   "name": "python",
   "nbconvert_exporter": "python",
   "pygments_lexer": "ipython3",
   "version": "3.8.3"
  }
 },
 "nbformat": 4,
 "nbformat_minor": 4
}
